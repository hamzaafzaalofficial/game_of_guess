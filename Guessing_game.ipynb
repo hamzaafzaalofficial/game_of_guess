{
 "cells": [
  {
   "cell_type": "code",
   "execution_count": null,
   "id": "e23fc5aa",
   "metadata": {},
   "outputs": [],
   "source": [
    "from random import randint\n",
    "\n",
    "secret_number = randint(1, 50)\n",
    "attempts_left = 5\n",
    "\n",
    "try:\n",
    "    while attempts_left > 0 :\n",
    "        user_input = input(\"Enter a number between 1 and 50: \")\n",
    "        try:\n",
    "            user_guess = int(user_input)\n",
    "        except ValueError:\n",
    "            print(\"Invalid input! Please enter a valid number.\")\n",
    "            continue  \n",
    "\n",
    "        attempts_left -= 1\n",
    "\n",
    "        if user_guess == secret_number:\n",
    "            print(f\"Congratulations! You guessed the secret number {secret_number} correctly!\")\n",
    "            break\n",
    "        elif user_guess > secret_number:\n",
    "            print(f\"Try again! Your guess is too high. You have {attempts_left} attempts left.\")\n",
    "        elif user_guess < secret_number:\n",
    "            print(f\"Try again! Your guess is too low. You have {attempts_left} attempts left.\")\n",
    "    \n",
    "    if user_guess != secret_number:\n",
    "        print(f\"Game Over! The secret number was {secret_number}. Better luck next time!\")\n",
    "        \n",
    "except KeyboardInterrupt:\n",
    "    print(\"\\nGame terminated by the user.\")"
   ]
  }
 ],
 "metadata": {
  "kernelspec": {
   "display_name": "Python 3 (ipykernel)",
   "language": "python",
   "name": "python3"
  },
  "language_info": {
   "codemirror_mode": {
    "name": "ipython",
    "version": 3
   },
   "file_extension": ".py",
   "mimetype": "text/x-python",
   "name": "python",
   "nbconvert_exporter": "python",
   "pygments_lexer": "ipython3",
   "version": "3.11.5"
  }
 },
 "nbformat": 4,
 "nbformat_minor": 5
}
